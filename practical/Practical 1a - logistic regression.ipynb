{
 "cells": [
  {
   "cell_type": "markdown",
   "metadata": {},
   "source": [
    "# Practical 1\n",
    "****\n",
    "In this practical session, we begin to explore some of the concepts covered in the lectures and give you the opportunity to run some code.\n",
    "\n",
    "Practical 1 focuses on building a logistic regression model and highlights some key steps and decisions that are needed when developing a logistic prediction model.\n",
    "\n",
    "We will begin by loading our data set and perform some integrity checks. Some exploratory analysis will then be conducted to gain an understanding of the data. Once we are happy and familiar with the data we begin by showing you how to conduct univariate logistic regression models for categorical predictor variables. Following this we will explore univariate regression with a continuous variable and how to decide if the association between the dependent and independent variable is linear or non-linear. Finally, we will build a multivariable prediction model.\n"
   ]
  },
  {
   "cell_type": "markdown",
   "metadata": {},
   "source": [
    "## The data\n",
    "\n",
    "For todays practicals we will be using data from the Second Manifestations of ARTerial disease (SMART) study  \n",
    "Here is a [link](https://link.springer.com/article/10.1023/A:1007621514757) to more information about the study.\n",
    "\n",
    "| Variable | Description |\n",
    "| :--- | :--- |\n",
    "|TEVENT| Time of event (days) |\n",
    "|EVENT| Cardiovascular event (0=no, 1=yes) |\n",
    "|outcome| Cardiovascular event within 2 years of study entry (0=no, 1=yes) |\n",
    "|SEX| 1 = male, 2 = female|\n",
    "|AGE|Age (years)|\n",
    "|DIABETES| Ever diabetes (0=no, 1=yes) |\n",
    "|CEREBRAL| Ever cerebrovascular disease (0=no, 1=yes) |\n",
    "|CARDIAC| Ever cardiovascular disease (0=no, 1=yes) |\n",
    "|AAA| Ever abdominal aortic aneurysm (0=no, 1=yes) |\n",
    "|PERIPH| Ever periferal aortic aneurysm (0=no, 1=yes) |\n",
    "|STENOSIS| Ever periferal vascular disease (0=no, 1=yes) |\n",
    "|SYSTBP| Systolic blood pressure (automatic, mm Hg)|\n",
    "|DIASTBP| Diastolic blood pressure (automatic, mm Hg)|\n",
    "|SYSTH| Systolic blood pressure (by hand, mm Hg)|\n",
    "|DIASTH| Diastolic blood pressure (by hand, mm Hg)|\n",
    "|LENGTHO| Height (m)|\n",
    "|WEIGHTO| Weight (kg)|\n",
    "|BMIO| Body mass index ($kg/m^2$)|\n",
    "|CHOLO|Cholesterol level (mmol/L)|\n",
    "|albumin| Albumin in urine (1=no, 2=low, 3=high)\n",
    "|SMOKING| Smoking status (1=no, 2=Former, 3=current)\n",
    "|packsyrs| Packetyears smoked|\n",
    "|alcohol| Alcohol consumption (1=no, 2=Former, 3=current)|\n",
    "\n",
    "\n",
    "\n",
    "\n",
    "The data was made freely available by Ewout Steyerberg who used the SMART data in his book 'Clinical prediction models: A Practical Approach to Development, Validation and Updating'. The data set is available from http://http://www.clinicalpredictionmodels.org/ but has been formated to make them easier for you to use. "
   ]
  },
  {
   "cell_type": "markdown",
   "metadata": {},
   "source": [
    "## Lets begin"
   ]
  },
  {
   "cell_type": "markdown",
   "metadata": {},
   "source": [
    "First lets load the packages we will be using in the practical"
   ]
  },
  {
   "cell_type": "code",
   "execution_count": null,
   "metadata": {},
   "outputs": [],
   "source": [
    "#install.packages(\"ggplot2\")"
   ]
  },
  {
   "cell_type": "code",
   "execution_count": null,
   "metadata": {},
   "outputs": [],
   "source": [
    "library(ggplot2)\n",
    "library(plyr)\n",
    "library(rms)\n",
    "library(MASS)\n",
    "library(reshape)\n",
    "library(lmtest)"
   ]
  },
  {
   "cell_type": "markdown",
   "metadata": {},
   "source": [
    "## Part 1 load and clean the data\n",
    "Load the data and perform some data checks\n",
    "\n",
    "The data is saved as an R data set (rds file), for information on how to load excel files please see the Intro to R HTML."
   ]
  },
  {
   "cell_type": "code",
   "execution_count": null,
   "metadata": {},
   "outputs": [],
   "source": [
    "smart <- readRDS(file= \"SMARTs_P1.rds\")\n",
    "class(smart) # This tells us the class/data type of the object smart (hopefully returning data.frame)\n",
    "dim(smart)\n",
    "sapply(smart,class) # This tells us the class of each variable in the smart data, eg, categorical='factor' or continuous='numeric'"
   ]
  },
  {
   "cell_type": "markdown",
   "metadata": {},
   "source": [
    "Albumin is not a factor variable so we need to change and label"
   ]
  },
  {
   "cell_type": "code",
   "execution_count": null,
   "metadata": {},
   "outputs": [],
   "source": [
    "# Albumin\n",
    "smart$albumin <- as.factor(smart$albumin)\n",
    "levels(smart$albumin)\n",
    "smart$albumin <- revalue(smart$albumin, c(\"1\"=\"No\", \"2\"=\"Low\", \"3\"=\"High\"))\n",
    "levels(smart$albumin)"
   ]
  },
  {
   "cell_type": "markdown",
   "metadata": {},
   "source": [
    "There are 2 variables for systolic blood pressure (SBP) because it can either done by hand or automatic. If we check, we can see there is a lot of missing data in both of the SBP variables."
   ]
  },
  {
   "cell_type": "code",
   "execution_count": null,
   "metadata": {},
   "outputs": [],
   "source": [
    "table(is.na(smart$SYSTBP)==FALSE)\n",
    "table(is.na(smart$SYSTH)==FALSE)"
   ]
  },
  {
   "cell_type": "markdown",
   "metadata": {},
   "source": [
    "However, if we look at how many individuals have SBP recorded by atleast one of the methods we find all but 3 have atleast one SBP measurement."
   ]
  },
  {
   "cell_type": "code",
   "execution_count": null,
   "metadata": {},
   "outputs": [],
   "source": [
    "table(is.na(smart$SYSTH)==FALSE | is.na(smart$SYSTBP)==FALSE)"
   ]
  },
  {
   "cell_type": "markdown",
   "metadata": {},
   "source": [
    " We can combine both of these variables to create a new SBP variable, such that, the variable will use the automatic SBP reading for each individual unless it is missing and then it will replace the missing indicator with the SBP recorded by hand."
   ]
  },
  {
   "cell_type": "code",
   "execution_count": null,
   "metadata": {},
   "outputs": [],
   "source": [
    "smart$SBP <- ifelse(is.na(smart$SYSTBP)==FALSE, smart$SYSTBP, smart$SYSTH)\n",
    "table(is.na(smart$SBP))"
   ]
  },
  {
   "cell_type": "markdown",
   "metadata": {},
   "source": [
    "Can you look at the diastolic blood pressure and the other variables?"
   ]
  },
  {
   "cell_type": "markdown",
   "metadata": {},
   "source": [
    "## Part 2 Exploratory analysis\n",
    "Now the data has been 'cleaned' we can begin to provide overviews of the data see the number of events/outcomes in our data.  "
   ]
  },
  {
   "cell_type": "code",
   "execution_count": null,
   "metadata": {},
   "outputs": [],
   "source": [
    "# Overview of the data\n",
    "attach(smart)\n",
    "dim(smart)\n",
    "summary(smart)\n",
    "sapply(smart,class)\n",
    "describe(smart)\t\n",
    "\n",
    "# Summarise outcome\n",
    "table(outcome)\n",
    "round(prop.table(table(outcome))*100,0)"
   ]
  },
  {
   "cell_type": "markdown",
   "metadata": {},
   "source": [
    "We see that 212 (5%) individuals have the outcome of interest.  \n",
    "It can be useful to also summarise each variable by the outcome"
   ]
  },
  {
   "cell_type": "code",
   "execution_count": null,
   "metadata": {},
   "outputs": [],
   "source": [
    "# Summarise categorical variables by outcome\n",
    "table(SEX,outcome) # Produces a table of counts\n",
    "round(prop.table(table(SEX,outcome),2)*100,0) # Produces a table of percentages\n",
    "round(prop.table(table(outcome,SEX),2)*100,0) # Produces a table of percentages\n",
    "\n",
    "table(SMOKING,outcome) \n",
    "round(prop.table(table(SMOKING,outcome),2)*100,0)\n",
    "round(prop.table(table(outcome,SMOKING),2)*100,0)"
   ]
  },
  {
   "cell_type": "code",
   "execution_count": null,
   "metadata": {},
   "outputs": [],
   "source": [
    "# Look at distributions of continuous variables\n",
    "summary(BMIO)\n",
    "ggplot(smart,aes(x=BMIO))+geom_histogram()+facet_grid(~outcome)+theme_light()+ labs(title = \"Histogram of age split by outcome\")\n",
    "ggplot(smart, aes(BMIO, fill = outcome)) + geom_histogram()\n",
    "ggplot(smart, aes(BMIO, fill = as.factor(outcome))) + geom_density(alpha = 0.2)\n"
   ]
  },
  {
   "cell_type": "markdown",
   "metadata": {},
   "source": [
    "### Question - Above we look into BMI, can you do the same for age?\n",
    "What is the range of age values?  \n",
    "Plot histogram of age  \n",
    "Plot the density of age by outcome  "
   ]
  },
  {
   "cell_type": "code",
   "execution_count": null,
   "metadata": {},
   "outputs": [],
   "source": [
    "# Insert R code here\n"
   ]
  },
  {
   "cell_type": "markdown",
   "metadata": {},
   "source": [
    "## Part 3 Univariate logistic regression with categorical variables\n",
    "Lets start by producing a univariate logistic model with gender as the independant variable."
   ]
  },
  {
   "cell_type": "code",
   "execution_count": null,
   "metadata": {},
   "outputs": [],
   "source": [
    "detach(smart)\n",
    "# Univariable models for categorical variables\n",
    "\n",
    "# Recode SEX so that the baseline is male #\n",
    "smart$SEX2 = relevel(smart$SEX, ref=\"Male\")\n",
    "attach(smart)\n",
    "\n",
    "# logistic regression model including sex as the only independent variable\n",
    "sex_mod <- glm(outcome~SEX2,family=\"binomial\")\n",
    "summary(sex_mod)\n",
    "beta <- round(exp(sex_mod$coef),3) # extract the model coefficients from the model\n",
    "b <- round(exp(confint.default(sex_mod)),3) # Compute the confidence intervals for the model coefficients\n",
    "d <- cbind(beta,b)\n",
    "d"
   ]
  },
  {
   "cell_type": "code",
   "execution_count": null,
   "metadata": {},
   "outputs": [],
   "source": [
    "summary(sex_mod)"
   ]
  },
  {
   "cell_type": "code",
   "execution_count": null,
   "metadata": {},
   "outputs": [],
   "source": [
    "beta <- round(exp(sex_mod$coef),3) # extract the model coefficients from the model\n",
    "beta"
   ]
  },
  {
   "cell_type": "markdown",
   "metadata": {},
   "source": [
    "Can you interpret the output?"
   ]
  },
  {
   "cell_type": "markdown",
   "metadata": {},
   "source": [
    "The estimate is the log odds."
   ]
  },
  {
   "cell_type": "markdown",
   "metadata": {},
   "source": [
    "**By modifying the code above, try fitting a logistic regression model to the SMART data with albumin as the predictor.**  \n",
    "**Q. Interpret the output. Is albumin a significant predictor? What level of albumin is associated with the lowest risk?**"
   ]
  },
  {
   "cell_type": "code",
   "execution_count": null,
   "metadata": {},
   "outputs": [],
   "source": [
    "# Insert R code here\n"
   ]
  },
  {
   "cell_type": "markdown",
   "metadata": {},
   "source": [
    "## Part 4 Univariate logistic regression with continuous variables\n",
    "Now lets try with a continuous variable (AGE).  "
   ]
  },
  {
   "cell_type": "code",
   "execution_count": null,
   "metadata": {},
   "outputs": [],
   "source": [
    "# Assuming age is linear\n",
    "age_mod <- glm(outcome~AGE,family=\"binomial\")\n",
    "summary(age_mod)\n",
    "exp(confint.default((age_mod))) # if you want confidence intervals for the model coefficients\n",
    "exp(0.03763)"
   ]
  },
  {
   "cell_type": "markdown",
   "metadata": {},
   "source": [
    "If you wanted to calculate the models average predicted risk for a 40 year old, or an 80 year old, you can do this using the code below."
   ]
  },
  {
   "cell_type": "code",
   "execution_count": null,
   "metadata": {},
   "outputs": [],
   "source": [
    "lp40 <- predict(age_mod,data.frame(AGE=40))\n",
    "risk40 <- exp(lp40)/(1+exp(lp40))\n",
    "\n",
    "lp80 <- predict(age_mod,data.frame(AGE=80))\n",
    "risk80 <- exp(lp80)/(1+exp(lp80))\n",
    "\n",
    "\n",
    "matrix(c(\"risk40\",\"risk80\", risk40, risk80),ncol=2,byrow=F)"
   ]
  },
  {
   "cell_type": "markdown",
   "metadata": {},
   "source": [
    "We see that on average, a 40 year old individual has a 2.5% risk of a cardiovascular event within 2 years.  \n",
    "Alternatively, you can also use this code to obtain the risk for an individual who is 40 years old. The results are the same, it is just another way to calculate the risk."
   ]
  },
  {
   "cell_type": "code",
   "execution_count": null,
   "metadata": {},
   "outputs": [],
   "source": [
    "risk40a <- predict(age_mod,data.frame(AGE=40), type=\"response\")*100 \n",
    "# 'type=\"response\"' gives the predicted probabilites and so multiply by 100 to get the risk as a percentage\n",
    "risk40b <- 1/(1+exp(-lp40))*100 # alternative calculation\n",
    "c(risk40a, risk40b)"
   ]
  },
  {
   "cell_type": "markdown",
   "metadata": {},
   "source": [
    "## Part 5 Modelling a continuos variable using splines"
   ]
  },
  {
   "cell_type": "markdown",
   "metadata": {},
   "source": [
    "Lets model age using splines. For information on splines, see Elements of stratistical learning book chapter 5.\n",
    "\n",
    "Splines allow us to model non-linear relationships. They are piesewise polynomials, such that, polynomials are fit at different intervals along the variable of interest which is defined by pre-detewrmined points, knows as knots. \n",
    "\n",
    "Lets first create spline variables using the rcs command. We run the command rcs(AGE,n), where n refers to the number of knots. This will result in n-1 terms in the model output. For example, rcs(AGE,3) transforms age into a spline with 3 knots (automatically placed at the minimum, maximum and median age values) and 2 age terms.\n",
    "\n",
    "Lets consiuder 3 different spline choices for age..."
   ]
  },
  {
   "cell_type": "code",
   "execution_count": null,
   "metadata": {},
   "outputs": [],
   "source": [
    "age3_spline <- rcs(AGE,3)\n",
    "age4_spline <- rcs(AGE,4)\n",
    "age5_spline <- rcs(AGE,5)"
   ]
  },
  {
   "cell_type": "markdown",
   "metadata": {},
   "source": [
    "Fit a logistic regression model using each set of spline variables & predict the linear predictor (LP)"
   ]
  },
  {
   "cell_type": "code",
   "execution_count": null,
   "metadata": {},
   "outputs": [],
   "source": [
    "age3_mod <- glm(outcome~age3_spline,family=\"binomial\")\n",
    "summary(age3_mod)"
   ]
  },
  {
   "cell_type": "code",
   "execution_count": null,
   "metadata": {},
   "outputs": [],
   "source": [
    "lp_age1 <- predict(age_mod)\n",
    "\n",
    "age3_mod <- glm(outcome~age3_spline,family=\"binomial\")\n",
    "age3_mod\n",
    "lp_age3 <- predict(age3_mod)\n",
    "\n",
    "age4_mod <- glm(outcome~age4_spline,family=\"binomial\")\n",
    "age4_mod\n",
    "lp_age4 <- predict(age4_mod)\n",
    "\n",
    "age5_mod <- glm(outcome~age5_spline,family=\"binomial\")\n",
    "age5_mod\n",
    "lp_age5 <- predict(age5_mod)"
   ]
  },
  {
   "cell_type": "markdown",
   "metadata": {},
   "source": [
    "It is dificult to interpret output when using splines and easier to visualise.\n",
    "\n",
    "Lets plot all LPs together for visual inspection (including the linear model)"
   ]
  },
  {
   "cell_type": "code",
   "execution_count": null,
   "metadata": {},
   "outputs": [],
   "source": [
    "data_part6 <- data.frame(AGE,lp_age1,lp_age3,lp_age4,lp_age5)\n",
    "data_part6_m <- melt(data_part6,id.vars='AGE')\n",
    "plot_part6 <- ggplot(data_part6_m,aes(AGE,value,colour=variable))+geom_line()+scale_colour_manual(labels=c(\"linear\",\"3 knots\",\"4 knots\",\"5 knots\"),values=c(\"gray\",\"green\",\"red\",\"blue\"))+theme_bw()\n",
    "plot_part6 + labs(x=\"Age (years)\",y=\"Linear Predictor (log odds)\",color=\"\") + theme(legend.position=c(0.2,0.8))"
   ]
  },
  {
   "cell_type": "markdown",
   "metadata": {},
   "source": [
    "From this graph which term would you use to model age? Do you think age is linear?  \n",
    "We can check which is the best fitted model and most appropriate term to use for age by comparing AIC or BIC\n",
    "\n",
    "Note, AIC is a measure of in sample prediction error that incorporates the goodness of fit and complexity of the model.\n",
    "\n",
    "Both AIC and BIC are penalised-likelihood criteria, but BIC penalises model complexity more than AIC."
   ]
  },
  {
   "cell_type": "markdown",
   "metadata": {},
   "source": [
    "AIC = 2k - 2log(likelihood) "
   ]
  },
  {
   "cell_type": "code",
   "execution_count": null,
   "metadata": {},
   "outputs": [],
   "source": [
    "summary(age_mod)"
   ]
  },
  {
   "cell_type": "code",
   "execution_count": null,
   "metadata": {},
   "outputs": [],
   "source": [
    "age_spline_check <- matrix(c(AIC(age_mod),\n",
    "         BIC(age_mod),\n",
    "         AIC(age3_mod),\n",
    "         BIC(age3_mod),\n",
    "         AIC(age4_mod),\n",
    "         BIC(age4_mod),\n",
    "         AIC(age5_mod),\n",
    "         BIC(age5_mod)), ncol=2, byrow=TRUE)\n",
    "\n",
    "colnames(age_spline_check) <- c(\"AIC\", \"BIC\")\n",
    "rownames(age_spline_check) <- c(\"age_mod\",\"age3_mod\", \"age4_mod\", \"age5_mod\")\n",
    "age_spline_check"
   ]
  },
  {
   "cell_type": "markdown",
   "metadata": {},
   "source": [
    "**Question - Using the above example, is there a non-linear relationship between BMI and the outcome? What term would you** **choose to model BMI? Do you think this makes sense biologically?**"
   ]
  },
  {
   "cell_type": "code",
   "execution_count": null,
   "metadata": {},
   "outputs": [],
   "source": [
    "# Insert R code here"
   ]
  },
  {
   "cell_type": "markdown",
   "metadata": {},
   "source": [
    "## Part 5 Building a multivariable model"
   ]
  },
  {
   "cell_type": "markdown",
   "metadata": {},
   "source": [
    "Now we will move beyond univariate analysis and build a model using variable selection.\n",
    "\n",
    "We will consider the following candidate predictors for inclusion in our model:  \n",
    "SEX, AGE, SBP, alcohol, CHOLO, BMIO, DIABETES, CARDIAC, SMOKING, AAA  \n",
    "\n",
    "Below we have subset the data to include only the data we need and removed any individuals with missing data.  \n",
    "**Note: removing individuals with missing data has been done for simplicity and is not advised in practice. This can induce bias and one should always consider techniques such as multiple imputation if data are missing** "
   ]
  },
  {
   "cell_type": "code",
   "execution_count": null,
   "metadata": {},
   "outputs": [],
   "source": [
    "detach(smart)\n",
    "smart <- subset(smart, select = c(outcome, SEX, AGE, SBP, alcohol, CHOLO, BMIO, DIABETES, CARDIAC, SMOKING, AAA))\n",
    "smart <- na.omit(smart)\n",
    "age3_spline <- rcs(smart$AGE,3)\n",
    "attach(smart)"
   ]
  },
  {
   "cell_type": "markdown",
   "metadata": {},
   "source": [
    "Next we can use forward or backward selection to develop a multivariable prediction model. We can use AIC to include/exclude predictors when building a model.\n",
    "\n",
    "**Forward selection**, involves starting with no variables in the model, testing the addition of each variable using a chosen model fit criterion, adding the variable (if any) whose inclusion gives the most statistically significant improvement of the fit, and repeating this process until none improves the model to a statistically significant extent.\n",
    "\n",
    "**Backward selection**, involves starting with all candidate variables, testing the deletion of each variable using a chosen model fit criterion, deleting the variable (if any) whose loss gives the most statistically insignificant deterioration of the model fit, and repeating this process until no further variables can be deleted without a statistically insignificant loss of fit.\n",
    "\n",
    "Here we willconsider AIC as our criteria for variable selection and use a p-value of 0.1 (equivalent to a 2.706 change in AIC) so not to be too stringent. \n"
   ]
  },
  {
   "cell_type": "code",
   "execution_count": null,
   "metadata": {},
   "outputs": [],
   "source": [
    "k10 <- qchisq(0.10,1,lower.tail=FALSE)\n",
    "k10"
   ]
  },
  {
   "cell_type": "code",
   "execution_count": null,
   "metadata": {
    "scrolled": true
   },
   "outputs": [],
   "source": [
    "\n",
    "#k10 <- qchisq(0.10,1,lower.tail=FALSE) # this give the change in AIC we consider to be significant in our stepwise selection\n",
    "\n",
    "# Forward selection (by AIC)\n",
    "empty_mod_2 <- glm(outcome~1,family=\"binomial\")\n",
    "forward_mod_2 <- stepAIC(empty_mod_2,k=k10,scope=list(upper=~SEX+age3_spline + SBP + alcohol + CHOLO + BMIO + DIABETES + CARDIAC + SMOKING + AAA,lower=~1),direction=\"forward\",trace=TRUE)\n"
   ]
  },
  {
   "cell_type": "code",
   "execution_count": null,
   "metadata": {},
   "outputs": [],
   "source": [
    "summary(forward_mod_2)"
   ]
  },
  {
   "cell_type": "code",
   "execution_count": null,
   "metadata": {},
   "outputs": [],
   "source": [
    "exp(0.381)"
   ]
  },
  {
   "cell_type": "markdown",
   "metadata": {},
   "source": [
    "**Can you interpret the output?**\n",
    "\n",
    "Now lets try Backward selection.\n",
    "\n",
    "**Can you also interpret this output?**"
   ]
  },
  {
   "cell_type": "code",
   "execution_count": null,
   "metadata": {},
   "outputs": [],
   "source": [
    "# Backward selection (by AIC)\n",
    "full_mod_2 <- glm(outcome~SEX+age3_spline + SBP + alcohol + CHOLO + BMIO + DIABETES + CARDIAC + SMOKING + AAA,family=\"binomial\")\n",
    "backward_mod_2 <- stepAIC(full_mod_2,k=k10,scope=list(upper=~SEX+age3_spline + SBP + alcohol + CHOLO + BMIO + DIABETES + CARDIAC + SMOKING + AAA,lower=~1),direction=\"backward\",trace=TRUE)\n"
   ]
  },
  {
   "cell_type": "code",
   "execution_count": null,
   "metadata": {},
   "outputs": [],
   "source": [
    "forward_mod_2\n",
    "backward_mod_2"
   ]
  },
  {
   "cell_type": "markdown",
   "metadata": {},
   "source": [
    "Here forward and backward selection choose the same model. However, this is not always what happens in practice.   \n",
    "We can also force a variable to be included in the model."
   ]
  },
  {
   "cell_type": "code",
   "execution_count": null,
   "metadata": {},
   "outputs": [],
   "source": [
    "# Backward selection (by AIC) forcing SEX to be incuded in the model\n",
    "k10 <- qchisq(0.1,1,lower.tail=FALSE)\n",
    "backward_mod_2sex <- stepAIC(full_mod_2,k=k10,scope=list(upper=~SEX+age3_spline + SBP + alcohol + CHOLO + BMIO + DIABETES + CARDIAC + SMOKING + AAA,lower=~SEX),direction=\"backward\",trace=TRUE)\n",
    "backward_mod_2sex\n",
    "summary(backward_mod_2sex)"
   ]
  },
  {
   "cell_type": "markdown",
   "metadata": {},
   "source": [
    "In this practical we have built a model solely based on statistical results. However, in practice it is advised that both statistical and clinical relevance should be used to build a model. It is advised to build a model using clinical input and include variables that are clinically important even if the predictor does not appear statistically significant in the model"
   ]
  },
  {
   "cell_type": "code",
   "execution_count": null,
   "metadata": {},
   "outputs": [],
   "source": []
  }
 ],
 "metadata": {
  "kernelspec": {
   "display_name": "R",
   "language": "R",
   "name": "ir"
  },
  "language_info": {
   "codemirror_mode": "r",
   "file_extension": ".r",
   "mimetype": "text/x-r-source",
   "name": "R",
   "pygments_lexer": "r",
   "version": "3.6.0"
  }
 },
 "nbformat": 4,
 "nbformat_minor": 2
}
